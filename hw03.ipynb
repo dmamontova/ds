{
 "cells": [
  {
   "cell_type": "markdown",
   "id": "911da6e0",
   "metadata": {},
   "source": [
    "<center>\n",
    "<img src=\"https://i.ibb.co/Ycs11Fg/meme.jpg\">\n",
    "</center>\n",
    "\n",
    "# Андан на экономе: домашнее задание 3\n",
    "## Задача классификации"
   ]
  },
  {
   "cell_type": "markdown",
   "id": "c2e40eb8",
   "metadata": {},
   "source": [
    "**ФИО:** Мамонтова Дарья Андреевна\n"
   ]
  },
  {
   "cell_type": "markdown",
   "id": "7b55058a",
   "metadata": {},
   "source": [
    "## Импорт необходимых библиотек "
   ]
  },
  {
   "cell_type": "code",
   "execution_count": 1,
   "id": "9311e523",
   "metadata": {},
   "outputs": [],
   "source": [
    "import numpy as np\n",
    "import pandas as pd\n",
    "import matplotlib.pyplot as plt\n",
    "# Отключение некоторых лишних предупреждений\n",
    "import warnings\n",
    "warnings.filterwarnings(\"ignore\")"
   ]
  },
  {
   "cell_type": "markdown",
   "id": "8e5cf1b8",
   "metadata": {},
   "source": [
    "## Задача "
   ]
  },
  {
   "cell_type": "markdown",
   "id": "c6f6920e",
   "metadata": {},
   "source": [
    "В данном задании вам необходимо построить предсказательную модель, определяющую пол клиента по его банковским транзакциям.\n",
    "\n",
    "Вам доступны 2 файла:\n",
    "* __transaction.csv__ - файл с транзакциями, колонки:\n",
    "    * user_id - целочисленный идентификатор пользователя\n",
    "    * dt - дата и время совершения транзации, принцип кодирования: \"DAY TIME\"\n",
    "        * DAY - порядковый день транзации с начала сбора данных\n",
    "        * TIME - время в формате hh:mm:ss\n",
    "    * type - тип (категория) совершаемой транзакции\n",
    "    * value - сумма транзакции\n",
    "    \n",
    "* __gender.csv__ - файл с данными о полах клиентов.\n",
    "    * user_id - целочисленный идентификатор пользователя\n",
    "    * gender - целевая переменная, закодированная лейблами 0 и 1. Это сделано:\n",
    "        * a) для удобства\n",
    "        * б) для избежания холиваров о правильности исходных меток \n",
    "\n",
    "Но если вы вдруг захотите похоливарить о том, что метки только две - то заметьте, что о полноте данных мы тоже не утверждаем."
   ]
  },
  {
   "cell_type": "markdown",
   "id": "56da0228",
   "metadata": {},
   "source": [
    "# Часть 1: минималочка [макс 20 баллов]"
   ]
  },
  {
   "cell_type": "markdown",
   "id": "cb568469",
   "metadata": {},
   "source": [
    "В этой части мы с вами попробуем построить самую простую модель для предсказания.\n",
    "\n",
    "Как мы с вами увидим: главная сложность - правильная подготовка данных. В таких задачах то, как именно вы преобразуете данные для обучения модели и будет во много определять её качество.\n",
    "\n",
    "В этой части мы сделаем простое преобразование данных путём простой агрегации данных о величине транзакций. "
   ]
  },
  {
   "cell_type": "markdown",
   "id": "3d8c2bf8",
   "metadata": {},
   "source": [
    "## Загрузка данных [5 баллов] "
   ]
  },
  {
   "cell_type": "markdown",
   "id": "b324b6bb",
   "metadata": {},
   "source": [
    "Скачайте данные для задачи с Яндекс.Диска:\n",
    "https://disk.yandex.ru/d/DGy6bbLaMZmrQg.\n",
    "\n",
    "Загрузите файлы с транзакциями и целевой меткой в pd.DataFrame.\n",
    "\n",
    "__Внимание__: у файла transactions.csv колоночный разделитель - точка с запятой \";\""
   ]
  },
  {
   "cell_type": "code",
   "execution_count": 2,
   "id": "12a08af9",
   "metadata": {},
   "outputs": [
    {
     "data": {
      "text/html": [
       "<div>\n",
       "<style scoped>\n",
       "    .dataframe tbody tr th:only-of-type {\n",
       "        vertical-align: middle;\n",
       "    }\n",
       "\n",
       "    .dataframe tbody tr th {\n",
       "        vertical-align: top;\n",
       "    }\n",
       "\n",
       "    .dataframe thead th {\n",
       "        text-align: right;\n",
       "    }\n",
       "</style>\n",
       "<table border=\"1\" class=\"dataframe\">\n",
       "  <thead>\n",
       "    <tr style=\"text-align: right;\">\n",
       "      <th></th>\n",
       "      <th>user_id</th>\n",
       "      <th>gender</th>\n",
       "    </tr>\n",
       "  </thead>\n",
       "  <tbody>\n",
       "    <tr>\n",
       "      <th>0</th>\n",
       "      <td>6740969</td>\n",
       "      <td>1.0</td>\n",
       "    </tr>\n",
       "    <tr>\n",
       "      <th>1</th>\n",
       "      <td>36599781</td>\n",
       "      <td>0.0</td>\n",
       "    </tr>\n",
       "    <tr>\n",
       "      <th>2</th>\n",
       "      <td>91453656</td>\n",
       "      <td>1.0</td>\n",
       "    </tr>\n",
       "    <tr>\n",
       "      <th>3</th>\n",
       "      <td>17431962</td>\n",
       "      <td>1.0</td>\n",
       "    </tr>\n",
       "    <tr>\n",
       "      <th>4</th>\n",
       "      <td>72568668</td>\n",
       "      <td>1.0</td>\n",
       "    </tr>\n",
       "  </tbody>\n",
       "</table>\n",
       "</div>"
      ],
      "text/plain": [
       "    user_id  gender\n",
       "0   6740969     1.0\n",
       "1  36599781     0.0\n",
       "2  91453656     1.0\n",
       "3  17431962     1.0\n",
       "4  72568668     1.0"
      ]
     },
     "execution_count": 2,
     "metadata": {},
     "output_type": "execute_result"
    }
   ],
   "source": [
    "df_gen= pd.read_csv('gender.csv')\n",
    "df_gen.head()"
   ]
  },
  {
   "cell_type": "code",
   "execution_count": 3,
   "id": "e7f6b6b8",
   "metadata": {},
   "outputs": [
    {
     "data": {
      "text/html": [
       "<div>\n",
       "<style scoped>\n",
       "    .dataframe tbody tr th:only-of-type {\n",
       "        vertical-align: middle;\n",
       "    }\n",
       "\n",
       "    .dataframe tbody tr th {\n",
       "        vertical-align: top;\n",
       "    }\n",
       "\n",
       "    .dataframe thead th {\n",
       "        text-align: right;\n",
       "    }\n",
       "</style>\n",
       "<table border=\"1\" class=\"dataframe\">\n",
       "  <thead>\n",
       "    <tr style=\"text-align: right;\">\n",
       "      <th></th>\n",
       "      <th>user_id</th>\n",
       "      <th>dt</th>\n",
       "      <th>type</th>\n",
       "      <th>value</th>\n",
       "    </tr>\n",
       "  </thead>\n",
       "  <tbody>\n",
       "    <tr>\n",
       "      <th>0</th>\n",
       "      <td>39026145</td>\n",
       "      <td>0 10:23:26</td>\n",
       "      <td>Звонки с использованием телефонов, считывающих...</td>\n",
       "      <td>2695.099</td>\n",
       "    </tr>\n",
       "    <tr>\n",
       "      <th>1</th>\n",
       "      <td>39026145</td>\n",
       "      <td>6 07:08:31</td>\n",
       "      <td>Звонки с использованием телефонов, считывающих...</td>\n",
       "      <td>2358.212</td>\n",
       "    </tr>\n",
       "    <tr>\n",
       "      <th>2</th>\n",
       "      <td>39026145</td>\n",
       "      <td>8 07:06:10</td>\n",
       "      <td>Звонки с использованием телефонов, считывающих...</td>\n",
       "      <td>2807.395</td>\n",
       "    </tr>\n",
       "    <tr>\n",
       "      <th>3</th>\n",
       "      <td>39026145</td>\n",
       "      <td>11 08:49:03</td>\n",
       "      <td>Звонки с использованием телефонов, считывающих...</td>\n",
       "      <td>2695.099</td>\n",
       "    </tr>\n",
       "    <tr>\n",
       "      <th>4</th>\n",
       "      <td>39026145</td>\n",
       "      <td>11 14:12:08</td>\n",
       "      <td>Звонки с использованием телефонов, считывающих...</td>\n",
       "      <td>2695.099</td>\n",
       "    </tr>\n",
       "  </tbody>\n",
       "</table>\n",
       "</div>"
      ],
      "text/plain": [
       "    user_id           dt                                               type  \\\n",
       "0  39026145   0 10:23:26  Звонки с использованием телефонов, считывающих...   \n",
       "1  39026145   6 07:08:31  Звонки с использованием телефонов, считывающих...   \n",
       "2  39026145   8 07:06:10  Звонки с использованием телефонов, считывающих...   \n",
       "3  39026145  11 08:49:03  Звонки с использованием телефонов, считывающих...   \n",
       "4  39026145  11 14:12:08  Звонки с использованием телефонов, считывающих...   \n",
       "\n",
       "      value  \n",
       "0  2695.099  \n",
       "1  2358.212  \n",
       "2  2807.395  \n",
       "3  2695.099  \n",
       "4  2695.099  "
      ]
     },
     "execution_count": 3,
     "metadata": {},
     "output_type": "execute_result"
    }
   ],
   "source": [
    "df_tran = pd.read_csv('C:\\\\Users\\\\user\\\\OneDrive\\\\Рабочий стол\\\\transactions.csv',sep=';')\n",
    "df_tran.head()"
   ]
  },
  {
   "cell_type": "markdown",
   "id": "ad3a83c9",
   "metadata": {},
   "source": [
    "## Подготовка данных [10 баллов] \n",
    "\n",
    "Для данной задачи необходимо как-то собрать данные для каждого пользователя в один вектор (строку таблицы). Сейчас, как вы можете увидеть, в таблице с данными одному пользователю может соответствовать много строк (каждая операция - отдельная строка).\n",
    "\n",
    "Таким образом, необходима агрегация данных - это можно сделать множеством разных способов."
   ]
  },
  {
   "cell_type": "markdown",
   "id": "567817e8",
   "metadata": {},
   "source": [
    "### Агрегация "
   ]
  },
  {
   "cell_type": "markdown",
   "id": "e3c812ef",
   "metadata": {},
   "source": [
    "Произведите простую агрегацию данных и для каждого пользователя в качестве признаков получите сумму, среднее и стандартное отклонение величины его транзакций. \n",
    "\n",
    "Так же добавите для каждого пользователя колонку с таргетом.\n",
    "\n",
    "По итогу вы должны получить таблицу с колонками:\n",
    "* user_id\n",
    "* value_sum\n",
    "* value_mean\n",
    "* value_std\n",
    "* gender"
   ]
  },
  {
   "cell_type": "code",
   "execution_count": 4,
   "id": "f29e9532",
   "metadata": {},
   "outputs": [],
   "source": [
    "a = df_tran[['user_id','value']].groupby(['user_id']).sum()\n",
    "a = a.rename(columns={'value':'value_sum'})\n",
    "b =df_tran[['user_id','value']].groupby(['user_id']).mean()\n",
    "b =b.rename(columns={'value':'value_mean'})\n",
    "c =df_tran[['user_id','value']].groupby(['user_id']).std()\n",
    "c =c.rename(columns={'value':'value_std'})"
   ]
  },
  {
   "cell_type": "code",
   "execution_count": 5,
   "id": "c11a035a",
   "metadata": {},
   "outputs": [
    {
     "data": {
      "text/html": [
       "<div>\n",
       "<style scoped>\n",
       "    .dataframe tbody tr th:only-of-type {\n",
       "        vertical-align: middle;\n",
       "    }\n",
       "\n",
       "    .dataframe tbody tr th {\n",
       "        vertical-align: top;\n",
       "    }\n",
       "\n",
       "    .dataframe thead th {\n",
       "        text-align: right;\n",
       "    }\n",
       "</style>\n",
       "<table border=\"1\" class=\"dataframe\">\n",
       "  <thead>\n",
       "    <tr style=\"text-align: right;\">\n",
       "      <th></th>\n",
       "      <th>value_sum</th>\n",
       "      <th>value_mean</th>\n",
       "      <th>value_std</th>\n",
       "    </tr>\n",
       "    <tr>\n",
       "      <th>user_id</th>\n",
       "      <th></th>\n",
       "      <th></th>\n",
       "      <th></th>\n",
       "    </tr>\n",
       "  </thead>\n",
       "  <tbody>\n",
       "    <tr>\n",
       "      <th>22899</th>\n",
       "      <td>274383.315</td>\n",
       "      <td>2143.619648</td>\n",
       "      <td>656.186785</td>\n",
       "    </tr>\n",
       "    <tr>\n",
       "      <th>27914</th>\n",
       "      <td>166436.523</td>\n",
       "      <td>2521.765500</td>\n",
       "      <td>415.972053</td>\n",
       "    </tr>\n",
       "    <tr>\n",
       "      <th>28753</th>\n",
       "      <td>251578.185</td>\n",
       "      <td>1980.930591</td>\n",
       "      <td>749.304999</td>\n",
       "    </tr>\n",
       "    <tr>\n",
       "      <th>31385</th>\n",
       "      <td>717856.052</td>\n",
       "      <td>2323.158744</td>\n",
       "      <td>632.491585</td>\n",
       "    </tr>\n",
       "    <tr>\n",
       "      <th>38084</th>\n",
       "      <td>1360028.958</td>\n",
       "      <td>2095.576206</td>\n",
       "      <td>649.030870</td>\n",
       "    </tr>\n",
       "  </tbody>\n",
       "</table>\n",
       "</div>"
      ],
      "text/plain": [
       "           value_sum   value_mean   value_std\n",
       "user_id                                      \n",
       "22899     274383.315  2143.619648  656.186785\n",
       "27914     166436.523  2521.765500  415.972053\n",
       "28753     251578.185  1980.930591  749.304999\n",
       "31385     717856.052  2323.158744  632.491585\n",
       "38084    1360028.958  2095.576206  649.030870"
      ]
     },
     "execution_count": 5,
     "metadata": {},
     "output_type": "execute_result"
    }
   ],
   "source": [
    "pre = a.join(b,how='left')\n",
    "final = pre.join(c,how='left')\n",
    "final.head()"
   ]
  },
  {
   "cell_type": "code",
   "execution_count": 6,
   "id": "993d29c4",
   "metadata": {},
   "outputs": [],
   "source": [
    "final = final.reset_index(drop=False)"
   ]
  },
  {
   "cell_type": "code",
   "execution_count": 7,
   "id": "d8731c7a",
   "metadata": {},
   "outputs": [
    {
     "data": {
      "text/html": [
       "<div>\n",
       "<style scoped>\n",
       "    .dataframe tbody tr th:only-of-type {\n",
       "        vertical-align: middle;\n",
       "    }\n",
       "\n",
       "    .dataframe tbody tr th {\n",
       "        vertical-align: top;\n",
       "    }\n",
       "\n",
       "    .dataframe thead th {\n",
       "        text-align: right;\n",
       "    }\n",
       "</style>\n",
       "<table border=\"1\" class=\"dataframe\">\n",
       "  <thead>\n",
       "    <tr style=\"text-align: right;\">\n",
       "      <th></th>\n",
       "      <th>user_id</th>\n",
       "      <th>value_sum</th>\n",
       "      <th>value_mean</th>\n",
       "      <th>value_std</th>\n",
       "    </tr>\n",
       "  </thead>\n",
       "  <tbody>\n",
       "    <tr>\n",
       "      <th>0</th>\n",
       "      <td>22899</td>\n",
       "      <td>274383.315</td>\n",
       "      <td>2143.619648</td>\n",
       "      <td>656.186785</td>\n",
       "    </tr>\n",
       "    <tr>\n",
       "      <th>1</th>\n",
       "      <td>27914</td>\n",
       "      <td>166436.523</td>\n",
       "      <td>2521.765500</td>\n",
       "      <td>415.972053</td>\n",
       "    </tr>\n",
       "    <tr>\n",
       "      <th>2</th>\n",
       "      <td>28753</td>\n",
       "      <td>251578.185</td>\n",
       "      <td>1980.930591</td>\n",
       "      <td>749.304999</td>\n",
       "    </tr>\n",
       "    <tr>\n",
       "      <th>3</th>\n",
       "      <td>31385</td>\n",
       "      <td>717856.052</td>\n",
       "      <td>2323.158744</td>\n",
       "      <td>632.491585</td>\n",
       "    </tr>\n",
       "    <tr>\n",
       "      <th>4</th>\n",
       "      <td>38084</td>\n",
       "      <td>1360028.958</td>\n",
       "      <td>2095.576206</td>\n",
       "      <td>649.030870</td>\n",
       "    </tr>\n",
       "  </tbody>\n",
       "</table>\n",
       "</div>"
      ],
      "text/plain": [
       "   user_id    value_sum   value_mean   value_std\n",
       "0    22899   274383.315  2143.619648  656.186785\n",
       "1    27914   166436.523  2521.765500  415.972053\n",
       "2    28753   251578.185  1980.930591  749.304999\n",
       "3    31385   717856.052  2323.158744  632.491585\n",
       "4    38084  1360028.958  2095.576206  649.030870"
      ]
     },
     "execution_count": 7,
     "metadata": {},
     "output_type": "execute_result"
    }
   ],
   "source": [
    "final.head()"
   ]
  },
  {
   "cell_type": "code",
   "execution_count": 8,
   "id": "7dff881d",
   "metadata": {},
   "outputs": [
    {
     "data": {
      "text/html": [
       "<div>\n",
       "<style scoped>\n",
       "    .dataframe tbody tr th:only-of-type {\n",
       "        vertical-align: middle;\n",
       "    }\n",
       "\n",
       "    .dataframe tbody tr th {\n",
       "        vertical-align: top;\n",
       "    }\n",
       "\n",
       "    .dataframe thead th {\n",
       "        text-align: right;\n",
       "    }\n",
       "</style>\n",
       "<table border=\"1\" class=\"dataframe\">\n",
       "  <thead>\n",
       "    <tr style=\"text-align: right;\">\n",
       "      <th></th>\n",
       "      <th>user_id</th>\n",
       "      <th>value_sum</th>\n",
       "      <th>value_mean</th>\n",
       "      <th>value_std</th>\n",
       "      <th>gender</th>\n",
       "    </tr>\n",
       "  </thead>\n",
       "  <tbody>\n",
       "    <tr>\n",
       "      <th>0</th>\n",
       "      <td>22899</td>\n",
       "      <td>274383.315</td>\n",
       "      <td>2143.619648</td>\n",
       "      <td>656.186785</td>\n",
       "      <td>1.0</td>\n",
       "    </tr>\n",
       "    <tr>\n",
       "      <th>1</th>\n",
       "      <td>27914</td>\n",
       "      <td>166436.523</td>\n",
       "      <td>2521.765500</td>\n",
       "      <td>415.972053</td>\n",
       "      <td>1.0</td>\n",
       "    </tr>\n",
       "    <tr>\n",
       "      <th>2</th>\n",
       "      <td>28753</td>\n",
       "      <td>251578.185</td>\n",
       "      <td>1980.930591</td>\n",
       "      <td>749.304999</td>\n",
       "      <td>0.0</td>\n",
       "    </tr>\n",
       "    <tr>\n",
       "      <th>3</th>\n",
       "      <td>31385</td>\n",
       "      <td>717856.052</td>\n",
       "      <td>2323.158744</td>\n",
       "      <td>632.491585</td>\n",
       "      <td>0.0</td>\n",
       "    </tr>\n",
       "    <tr>\n",
       "      <th>4</th>\n",
       "      <td>38084</td>\n",
       "      <td>1360028.958</td>\n",
       "      <td>2095.576206</td>\n",
       "      <td>649.030870</td>\n",
       "      <td>0.0</td>\n",
       "    </tr>\n",
       "  </tbody>\n",
       "</table>\n",
       "</div>"
      ],
      "text/plain": [
       "   user_id    value_sum   value_mean   value_std  gender\n",
       "0    22899   274383.315  2143.619648  656.186785     1.0\n",
       "1    27914   166436.523  2521.765500  415.972053     1.0\n",
       "2    28753   251578.185  1980.930591  749.304999     0.0\n",
       "3    31385   717856.052  2323.158744  632.491585     0.0\n",
       "4    38084  1360028.958  2095.576206  649.030870     0.0"
      ]
     },
     "execution_count": 8,
     "metadata": {},
     "output_type": "execute_result"
    }
   ],
   "source": [
    "df = final.merge(df_gen,left_on='user_id',right_on='user_id')\n",
    "df.head()"
   ]
  },
  {
   "cell_type": "code",
   "execution_count": 9,
   "id": "f6195cf4",
   "metadata": {},
   "outputs": [],
   "source": [
    "df = df.fillna(0)"
   ]
  },
  {
   "cell_type": "code",
   "execution_count": 10,
   "id": "0f3ea7d4",
   "metadata": {},
   "outputs": [
    {
     "data": {
      "text/plain": [
       "0"
      ]
     },
     "execution_count": 10,
     "metadata": {},
     "output_type": "execute_result"
    }
   ],
   "source": [
    "df.isnull().sum().sum()"
   ]
  },
  {
   "cell_type": "markdown",
   "id": "194e73a7",
   "metadata": {},
   "source": [
    "### Отложенная выборка "
   ]
  },
  {
   "cell_type": "markdown",
   "id": "d3f431ee",
   "metadata": {},
   "source": [
    "Получите полный список пользователей и разделите их на два списка:\n",
    "* тренировочный список пользователей (80%)\n",
    "* тестовый список пользователей (20%)"
   ]
  },
  {
   "cell_type": "markdown",
   "id": "646a73cf",
   "metadata": {},
   "source": [
    "__Важное замечание__: Далее во всех пунктах, где вам нужно провалидировать (оценить) получившуюся модель исползуйте данные только для этих тестовых пользователей.\n",
    "\n",
    "Обучать все модели, естественно, нужно только на данных пользователей из обучающего списка."
   ]
  },
  {
   "cell_type": "code",
   "execution_count": 11,
   "id": "6017d80f",
   "metadata": {},
   "outputs": [],
   "source": [
    "y = df['gender']\n",
    "df = df.drop('gender',axis=1)\n",
    "X = df"
   ]
  },
  {
   "cell_type": "code",
   "execution_count": 12,
   "id": "a74ea5aa",
   "metadata": {},
   "outputs": [],
   "source": [
    "np.random.seed(1)\n",
    "from sklearn.model_selection import train_test_split\n",
    "X_train, X_test, y_train, y_test = train_test_split(X, y, test_size = 0.2)"
   ]
  },
  {
   "cell_type": "markdown",
   "id": "c4e54aa8",
   "metadata": {},
   "source": [
    "Для нашей задачи получите признаки и целевые метки обучающей и тестовой выборки. "
   ]
  },
  {
   "cell_type": "markdown",
   "id": "852a5e0c",
   "metadata": {},
   "source": [
    "## Обучение и оценка модели [5 баллов] "
   ]
  },
  {
   "cell_type": "markdown",
   "id": "0d3a14bb",
   "metadata": {},
   "source": [
    "Обучите модель логистической регрессии с дефолтными параметрами.\n",
    "\n",
    "Получите предсказания вероятностей первого класса."
   ]
  },
  {
   "cell_type": "code",
   "execution_count": 13,
   "id": "9b458875",
   "metadata": {},
   "outputs": [],
   "source": [
    "from sklearn.linear_model import LogisticRegression"
   ]
  },
  {
   "cell_type": "code",
   "execution_count": 14,
   "id": "050f5143",
   "metadata": {},
   "outputs": [
    {
     "name": "stdout",
     "output_type": "stream",
     "text": [
      "for test: [[0.53481297 0.46518703]\n",
      " [0.5150935  0.4849065 ]\n",
      " [0.5564718  0.4435282 ]\n",
      " ...\n",
      " [0.56647368 0.43352632]\n",
      " [0.51395917 0.48604083]\n",
      " [0.5715865  0.4284135 ]]\n"
     ]
    }
   ],
   "source": [
    "lr = LogisticRegression().fit(X_train,y_train)\n",
    "print(f'for test: {lr.predict_proba(X_test)}')"
   ]
  },
  {
   "cell_type": "markdown",
   "id": "f2345148",
   "metadata": {},
   "source": [
    "### Валидация "
   ]
  },
  {
   "cell_type": "markdown",
   "id": "ee3576b3",
   "metadata": {},
   "source": [
    "Посчитайте ROC_AUC, accuracy, precision, recall для получившихся предсказаний.\n",
    "\n",
    "Для метрик, для которых необходимы метки классов, а не вероятности - используйте порог 0.5.\n",
    "\n",
    "Далее при оценки других моделей приводите эти же метрики (если явно не указано иное)."
   ]
  },
  {
   "cell_type": "code",
   "execution_count": 15,
   "id": "0565fe22",
   "metadata": {},
   "outputs": [
    {
     "data": {
      "text/plain": [
       "0.4957618025751073"
      ]
     },
     "execution_count": 15,
     "metadata": {},
     "output_type": "execute_result"
    }
   ],
   "source": [
    "#ROC_AUC\n",
    "from sklearn.metrics import roc_auc_score\n",
    "\n",
    "p_pred = lr.predict_proba(X_test)\n",
    "roc_auc_score(y_test, p_pred[:,-1])"
   ]
  },
  {
   "cell_type": "code",
   "execution_count": 16,
   "id": "09f36189",
   "metadata": {},
   "outputs": [
    {
     "data": {
      "text/plain": [
       "0.5508373205741627"
      ]
     },
     "execution_count": 16,
     "metadata": {},
     "output_type": "execute_result"
    }
   ],
   "source": [
    "#accuracy\n",
    "from sklearn.metrics import accuracy_score\n",
    "y_pred = lr.predict(X_test)\n",
    "accuracy_score(y_test,y_pred)"
   ]
  },
  {
   "cell_type": "code",
   "execution_count": 17,
   "id": "257f5a31",
   "metadata": {},
   "outputs": [
    {
     "data": {
      "text/plain": [
       "0.40350877192982454"
      ]
     },
     "execution_count": 17,
     "metadata": {},
     "output_type": "execute_result"
    }
   ],
   "source": [
    "#precision\n",
    "from sklearn.metrics import precision_score\n",
    "precision_score(y_test,y_pred)"
   ]
  },
  {
   "cell_type": "code",
   "execution_count": 18,
   "id": "e7b2da81",
   "metadata": {},
   "outputs": [
    {
     "data": {
      "text/plain": [
       "0.031081081081081083"
      ]
     },
     "execution_count": 18,
     "metadata": {},
     "output_type": "execute_result"
    }
   ],
   "source": [
    "#recall\n",
    "from sklearn.metrics import recall_score\n",
    "recall_score(y_test,y_pred)"
   ]
  },
  {
   "cell_type": "markdown",
   "id": "9c06a7c5",
   "metadata": {},
   "source": [
    "### Вывод"
   ]
  },
  {
   "cell_type": "markdown",
   "id": "6e95c3d8",
   "metadata": {},
   "source": [
    "Как вы оцениваете качество получившейся модели и возможные причины такого качества?\n",
    "\n",
    "__Ваш вывод:__ Качество получившейся модели низкое, об этом говорят низкие значения ROC AUC и accuracy. Такое может получиться из-за того, что наши данные:\n",
    "- неотмасштабированы \n",
    "- слишком мало характеристик для предсказания"
   ]
  },
  {
   "cell_type": "markdown",
   "id": "e94a47be",
   "metadata": {},
   "source": [
    "# Часть 2: мб сделаем что-то более серьёзное? [макс 20 баллов]"
   ]
  },
  {
   "cell_type": "markdown",
   "id": "6724dd97",
   "metadata": {},
   "source": [
    "Давайте попробуем улучшить качество решения задачи за счёт другого метода подготовки данных.\n",
    "\n",
    "Ранее мы использовали простое преобразование, когда каждый клиент описывался только 3 значениями.\n",
    "Давайте сделаем что-то более сложное и попробуем добавить больше данных о клиенте для модели."
   ]
  },
  {
   "cell_type": "markdown",
   "id": "c5cf8456",
   "metadata": {},
   "source": [
    "## Подготовка данных [15 баллов]"
   ]
  },
  {
   "cell_type": "markdown",
   "id": "d30f62ce",
   "metadata": {},
   "source": [
    "Воспользуемся тем, что каждая транзакция у нас имеет свой тип - это уж точно более информативно, чем агрегация по всем транзакциям.\n",
    "\n",
    "Создайте сводную таблицу, где для каждого клиента (строка) будут указаны его суммарные траты на каждую категорию (столбец). Таким образом, вы должны получить таблицу с числом строк равным количеству клиентов и числом столбцов - количеству категорий трат. Каждая ячейка должна содержать суммарные траты данного клиента в данной категории.\n",
    "\n",
    "__Подсказка__: у DataFrame есть полезный метод `pivot_table`."
   ]
  },
  {
   "cell_type": "code",
   "execution_count": 19,
   "id": "4a1155c9",
   "metadata": {},
   "outputs": [],
   "source": [
    "df_1= pd.pivot_table(df_tran, values='value', index=['user_id'], columns=['type'], aggfunc=np.sum)"
   ]
  },
  {
   "cell_type": "code",
   "execution_count": 20,
   "id": "bd7de70a",
   "metadata": {},
   "outputs": [
    {
     "data": {
      "text/html": [
       "<div>\n",
       "<style scoped>\n",
       "    .dataframe tbody tr th:only-of-type {\n",
       "        vertical-align: middle;\n",
       "    }\n",
       "\n",
       "    .dataframe tbody tr th {\n",
       "        vertical-align: top;\n",
       "    }\n",
       "\n",
       "    .dataframe thead th {\n",
       "        text-align: right;\n",
       "    }\n",
       "</style>\n",
       "<table border=\"1\" class=\"dataframe\">\n",
       "  <thead>\n",
       "    <tr style=\"text-align: right;\">\n",
       "      <th>type</th>\n",
       "      <th>Авиалинии, авиакомпании</th>\n",
       "      <th>Авиалинии, авиакомпании, нигде более не классифицированные</th>\n",
       "      <th>Автобусные линии</th>\n",
       "      <th>Автозапчасти и аксессуары</th>\n",
       "      <th>Автоматизированные бензозаправки</th>\n",
       "      <th>Автомойки</th>\n",
       "      <th>Автошины</th>\n",
       "      <th>Агентства по автотранспортным перевозкам, местные/дальные автогрузоперевозки, компании попереезду и хранению, местная доставка</th>\n",
       "      <th>Агентства по аренде автомобилей</th>\n",
       "      <th>Агенты и менеджеры по аренде недвижимости</th>\n",
       "      <th>...</th>\n",
       "      <th>Фотостудии, фотолаборатории</th>\n",
       "      <th>Химикалии и смежные вещества, не классифицированные ранее</th>\n",
       "      <th>Химчистки</th>\n",
       "      <th>Ценные бумаги: брокеры/дилеры</th>\n",
       "      <th>Центры здоровья</th>\n",
       "      <th>Цифровые товары, игры</th>\n",
       "      <th>Школы — бизнес и секретарей</th>\n",
       "      <th>Штрафы</th>\n",
       "      <th>Штучные товары, галантерея и другие текстильные товары</th>\n",
       "      <th>Электрические части и оборудование</th>\n",
       "    </tr>\n",
       "    <tr>\n",
       "      <th>user_id</th>\n",
       "      <th></th>\n",
       "      <th></th>\n",
       "      <th></th>\n",
       "      <th></th>\n",
       "      <th></th>\n",
       "      <th></th>\n",
       "      <th></th>\n",
       "      <th></th>\n",
       "      <th></th>\n",
       "      <th></th>\n",
       "      <th></th>\n",
       "      <th></th>\n",
       "      <th></th>\n",
       "      <th></th>\n",
       "      <th></th>\n",
       "      <th></th>\n",
       "      <th></th>\n",
       "      <th></th>\n",
       "      <th></th>\n",
       "      <th></th>\n",
       "      <th></th>\n",
       "    </tr>\n",
       "  </thead>\n",
       "  <tbody>\n",
       "    <tr>\n",
       "      <th>22899</th>\n",
       "      <td>0.0</td>\n",
       "      <td>0.0</td>\n",
       "      <td>0.0</td>\n",
       "      <td>0.0</td>\n",
       "      <td>0.0</td>\n",
       "      <td>0.0</td>\n",
       "      <td>0.0</td>\n",
       "      <td>0.0</td>\n",
       "      <td>0.0</td>\n",
       "      <td>0.0</td>\n",
       "      <td>...</td>\n",
       "      <td>0.0</td>\n",
       "      <td>0.0</td>\n",
       "      <td>0.0</td>\n",
       "      <td>0.0</td>\n",
       "      <td>0.0</td>\n",
       "      <td>0.0</td>\n",
       "      <td>0.0</td>\n",
       "      <td>0.0</td>\n",
       "      <td>0.0</td>\n",
       "      <td>0.0</td>\n",
       "    </tr>\n",
       "    <tr>\n",
       "      <th>27914</th>\n",
       "      <td>0.0</td>\n",
       "      <td>0.0</td>\n",
       "      <td>0.0</td>\n",
       "      <td>0.0</td>\n",
       "      <td>0.0</td>\n",
       "      <td>0.0</td>\n",
       "      <td>0.0</td>\n",
       "      <td>0.0</td>\n",
       "      <td>0.0</td>\n",
       "      <td>0.0</td>\n",
       "      <td>...</td>\n",
       "      <td>0.0</td>\n",
       "      <td>0.0</td>\n",
       "      <td>0.0</td>\n",
       "      <td>0.0</td>\n",
       "      <td>0.0</td>\n",
       "      <td>0.0</td>\n",
       "      <td>0.0</td>\n",
       "      <td>0.0</td>\n",
       "      <td>0.0</td>\n",
       "      <td>0.0</td>\n",
       "    </tr>\n",
       "    <tr>\n",
       "      <th>28753</th>\n",
       "      <td>0.0</td>\n",
       "      <td>0.0</td>\n",
       "      <td>0.0</td>\n",
       "      <td>0.0</td>\n",
       "      <td>0.0</td>\n",
       "      <td>0.0</td>\n",
       "      <td>0.0</td>\n",
       "      <td>0.0</td>\n",
       "      <td>0.0</td>\n",
       "      <td>0.0</td>\n",
       "      <td>...</td>\n",
       "      <td>0.0</td>\n",
       "      <td>0.0</td>\n",
       "      <td>0.0</td>\n",
       "      <td>0.0</td>\n",
       "      <td>0.0</td>\n",
       "      <td>0.0</td>\n",
       "      <td>0.0</td>\n",
       "      <td>0.0</td>\n",
       "      <td>0.0</td>\n",
       "      <td>0.0</td>\n",
       "    </tr>\n",
       "    <tr>\n",
       "      <th>31385</th>\n",
       "      <td>0.0</td>\n",
       "      <td>0.0</td>\n",
       "      <td>0.0</td>\n",
       "      <td>0.0</td>\n",
       "      <td>0.0</td>\n",
       "      <td>0.0</td>\n",
       "      <td>0.0</td>\n",
       "      <td>0.0</td>\n",
       "      <td>0.0</td>\n",
       "      <td>0.0</td>\n",
       "      <td>...</td>\n",
       "      <td>0.0</td>\n",
       "      <td>0.0</td>\n",
       "      <td>0.0</td>\n",
       "      <td>0.0</td>\n",
       "      <td>0.0</td>\n",
       "      <td>0.0</td>\n",
       "      <td>0.0</td>\n",
       "      <td>0.0</td>\n",
       "      <td>0.0</td>\n",
       "      <td>0.0</td>\n",
       "    </tr>\n",
       "    <tr>\n",
       "      <th>38084</th>\n",
       "      <td>0.0</td>\n",
       "      <td>0.0</td>\n",
       "      <td>0.0</td>\n",
       "      <td>0.0</td>\n",
       "      <td>0.0</td>\n",
       "      <td>0.0</td>\n",
       "      <td>0.0</td>\n",
       "      <td>0.0</td>\n",
       "      <td>0.0</td>\n",
       "      <td>0.0</td>\n",
       "      <td>...</td>\n",
       "      <td>0.0</td>\n",
       "      <td>0.0</td>\n",
       "      <td>0.0</td>\n",
       "      <td>0.0</td>\n",
       "      <td>0.0</td>\n",
       "      <td>0.0</td>\n",
       "      <td>0.0</td>\n",
       "      <td>0.0</td>\n",
       "      <td>0.0</td>\n",
       "      <td>0.0</td>\n",
       "    </tr>\n",
       "  </tbody>\n",
       "</table>\n",
       "<p>5 rows × 184 columns</p>\n",
       "</div>"
      ],
      "text/plain": [
       "type     Авиалинии, авиакомпании  \\\n",
       "user_id                            \n",
       "22899                        0.0   \n",
       "27914                        0.0   \n",
       "28753                        0.0   \n",
       "31385                        0.0   \n",
       "38084                        0.0   \n",
       "\n",
       "type     Авиалинии, авиакомпании, нигде более не классифицированные  \\\n",
       "user_id                                                               \n",
       "22899                                                  0.0            \n",
       "27914                                                  0.0            \n",
       "28753                                                  0.0            \n",
       "31385                                                  0.0            \n",
       "38084                                                  0.0            \n",
       "\n",
       "type     Автобусные линии  Автозапчасти и аксессуары  \\\n",
       "user_id                                                \n",
       "22899                 0.0                        0.0   \n",
       "27914                 0.0                        0.0   \n",
       "28753                 0.0                        0.0   \n",
       "31385                 0.0                        0.0   \n",
       "38084                 0.0                        0.0   \n",
       "\n",
       "type     Автоматизированные бензозаправки  Автомойки  Автошины  \\\n",
       "user_id                                                          \n",
       "22899                                 0.0        0.0       0.0   \n",
       "27914                                 0.0        0.0       0.0   \n",
       "28753                                 0.0        0.0       0.0   \n",
       "31385                                 0.0        0.0       0.0   \n",
       "38084                                 0.0        0.0       0.0   \n",
       "\n",
       "type     Агентства по автотранспортным перевозкам, местные/дальные автогрузоперевозки, компании попереезду и хранению, местная доставка  \\\n",
       "user_id                                                                                                                                   \n",
       "22899                                                  0.0                                                                                \n",
       "27914                                                  0.0                                                                                \n",
       "28753                                                  0.0                                                                                \n",
       "31385                                                  0.0                                                                                \n",
       "38084                                                  0.0                                                                                \n",
       "\n",
       "type     Агентства по аренде автомобилей  \\\n",
       "user_id                                    \n",
       "22899                                0.0   \n",
       "27914                                0.0   \n",
       "28753                                0.0   \n",
       "31385                                0.0   \n",
       "38084                                0.0   \n",
       "\n",
       "type     Агенты и менеджеры по аренде недвижимости  ...  \\\n",
       "user_id                                             ...   \n",
       "22899                                          0.0  ...   \n",
       "27914                                          0.0  ...   \n",
       "28753                                          0.0  ...   \n",
       "31385                                          0.0  ...   \n",
       "38084                                          0.0  ...   \n",
       "\n",
       "type     Фотостудии, фотолаборатории  \\\n",
       "user_id                                \n",
       "22899                            0.0   \n",
       "27914                            0.0   \n",
       "28753                            0.0   \n",
       "31385                            0.0   \n",
       "38084                            0.0   \n",
       "\n",
       "type     Химикалии и смежные вещества, не классифицированные ранее  Химчистки  \\\n",
       "user_id                                                                         \n",
       "22899                                                  0.0                0.0   \n",
       "27914                                                  0.0                0.0   \n",
       "28753                                                  0.0                0.0   \n",
       "31385                                                  0.0                0.0   \n",
       "38084                                                  0.0                0.0   \n",
       "\n",
       "type     Ценные бумаги: брокеры/дилеры  Центры здоровья  \\\n",
       "user_id                                                   \n",
       "22899                              0.0              0.0   \n",
       "27914                              0.0              0.0   \n",
       "28753                              0.0              0.0   \n",
       "31385                              0.0              0.0   \n",
       "38084                              0.0              0.0   \n",
       "\n",
       "type     Цифровые товары, игры  Школы — бизнес и секретарей  Штрафы  \\\n",
       "user_id                                                               \n",
       "22899                      0.0                          0.0     0.0   \n",
       "27914                      0.0                          0.0     0.0   \n",
       "28753                      0.0                          0.0     0.0   \n",
       "31385                      0.0                          0.0     0.0   \n",
       "38084                      0.0                          0.0     0.0   \n",
       "\n",
       "type     Штучные товары, галантерея и другие текстильные товары  \\\n",
       "user_id                                                           \n",
       "22899                                                  0.0        \n",
       "27914                                                  0.0        \n",
       "28753                                                  0.0        \n",
       "31385                                                  0.0        \n",
       "38084                                                  0.0        \n",
       "\n",
       "type     Электрические части и оборудование  \n",
       "user_id                                      \n",
       "22899                                   0.0  \n",
       "27914                                   0.0  \n",
       "28753                                   0.0  \n",
       "31385                                   0.0  \n",
       "38084                                   0.0  \n",
       "\n",
       "[5 rows x 184 columns]"
      ]
     },
     "execution_count": 20,
     "metadata": {},
     "output_type": "execute_result"
    }
   ],
   "source": [
    "df_1 = df_1.fillna(0)\n",
    "df_1.head()"
   ]
  },
  {
   "cell_type": "markdown",
   "id": "ad21c6ef",
   "metadata": {},
   "source": [
    "## Обучение и валидация модели [5 баллов]"
   ]
  },
  {
   "cell_type": "markdown",
   "id": "39a87010",
   "metadata": {},
   "source": [
    "Аналогично предыдущей части разделите данные на обучающую и тестовую выборку (80%/20%), обучите модель на дефолтных параметрах и оцените качество."
   ]
  },
  {
   "cell_type": "code",
   "execution_count": 21,
   "id": "890859c7",
   "metadata": {},
   "outputs": [],
   "source": [
    "df_g = df_gen.set_index('user_id')"
   ]
  },
  {
   "cell_type": "code",
   "execution_count": 22,
   "id": "e200a8d0",
   "metadata": {},
   "outputs": [],
   "source": [
    "fin = df_1.merge(df_g,left_index=True,right_index=True)"
   ]
  },
  {
   "cell_type": "code",
   "execution_count": 23,
   "id": "78c13614",
   "metadata": {},
   "outputs": [
    {
     "data": {
      "text/html": [
       "<div>\n",
       "<style scoped>\n",
       "    .dataframe tbody tr th:only-of-type {\n",
       "        vertical-align: middle;\n",
       "    }\n",
       "\n",
       "    .dataframe tbody tr th {\n",
       "        vertical-align: top;\n",
       "    }\n",
       "\n",
       "    .dataframe thead th {\n",
       "        text-align: right;\n",
       "    }\n",
       "</style>\n",
       "<table border=\"1\" class=\"dataframe\">\n",
       "  <thead>\n",
       "    <tr style=\"text-align: right;\">\n",
       "      <th></th>\n",
       "      <th>Авиалинии, авиакомпании</th>\n",
       "      <th>Авиалинии, авиакомпании, нигде более не классифицированные</th>\n",
       "      <th>Автобусные линии</th>\n",
       "      <th>Автозапчасти и аксессуары</th>\n",
       "      <th>Автоматизированные бензозаправки</th>\n",
       "      <th>Автомойки</th>\n",
       "      <th>Автошины</th>\n",
       "      <th>Агентства по автотранспортным перевозкам, местные/дальные автогрузоперевозки, компании попереезду и хранению, местная доставка</th>\n",
       "      <th>Агентства по аренде автомобилей</th>\n",
       "      <th>Агенты и менеджеры по аренде недвижимости</th>\n",
       "      <th>...</th>\n",
       "      <th>Химикалии и смежные вещества, не классифицированные ранее</th>\n",
       "      <th>Химчистки</th>\n",
       "      <th>Ценные бумаги: брокеры/дилеры</th>\n",
       "      <th>Центры здоровья</th>\n",
       "      <th>Цифровые товары, игры</th>\n",
       "      <th>Школы — бизнес и секретарей</th>\n",
       "      <th>Штрафы</th>\n",
       "      <th>Штучные товары, галантерея и другие текстильные товары</th>\n",
       "      <th>Электрические части и оборудование</th>\n",
       "      <th>gender</th>\n",
       "    </tr>\n",
       "    <tr>\n",
       "      <th>user_id</th>\n",
       "      <th></th>\n",
       "      <th></th>\n",
       "      <th></th>\n",
       "      <th></th>\n",
       "      <th></th>\n",
       "      <th></th>\n",
       "      <th></th>\n",
       "      <th></th>\n",
       "      <th></th>\n",
       "      <th></th>\n",
       "      <th></th>\n",
       "      <th></th>\n",
       "      <th></th>\n",
       "      <th></th>\n",
       "      <th></th>\n",
       "      <th></th>\n",
       "      <th></th>\n",
       "      <th></th>\n",
       "      <th></th>\n",
       "      <th></th>\n",
       "      <th></th>\n",
       "    </tr>\n",
       "  </thead>\n",
       "  <tbody>\n",
       "    <tr>\n",
       "      <th>22899</th>\n",
       "      <td>0.0</td>\n",
       "      <td>0.0</td>\n",
       "      <td>0.0</td>\n",
       "      <td>0.0</td>\n",
       "      <td>0.0</td>\n",
       "      <td>0.0</td>\n",
       "      <td>0.0</td>\n",
       "      <td>0.0</td>\n",
       "      <td>0.0</td>\n",
       "      <td>0.0</td>\n",
       "      <td>...</td>\n",
       "      <td>0.0</td>\n",
       "      <td>0.0</td>\n",
       "      <td>0.0</td>\n",
       "      <td>0.0</td>\n",
       "      <td>0.0</td>\n",
       "      <td>0.0</td>\n",
       "      <td>0.0</td>\n",
       "      <td>0.0</td>\n",
       "      <td>0.0</td>\n",
       "      <td>1.0</td>\n",
       "    </tr>\n",
       "    <tr>\n",
       "      <th>27914</th>\n",
       "      <td>0.0</td>\n",
       "      <td>0.0</td>\n",
       "      <td>0.0</td>\n",
       "      <td>0.0</td>\n",
       "      <td>0.0</td>\n",
       "      <td>0.0</td>\n",
       "      <td>0.0</td>\n",
       "      <td>0.0</td>\n",
       "      <td>0.0</td>\n",
       "      <td>0.0</td>\n",
       "      <td>...</td>\n",
       "      <td>0.0</td>\n",
       "      <td>0.0</td>\n",
       "      <td>0.0</td>\n",
       "      <td>0.0</td>\n",
       "      <td>0.0</td>\n",
       "      <td>0.0</td>\n",
       "      <td>0.0</td>\n",
       "      <td>0.0</td>\n",
       "      <td>0.0</td>\n",
       "      <td>1.0</td>\n",
       "    </tr>\n",
       "    <tr>\n",
       "      <th>28753</th>\n",
       "      <td>0.0</td>\n",
       "      <td>0.0</td>\n",
       "      <td>0.0</td>\n",
       "      <td>0.0</td>\n",
       "      <td>0.0</td>\n",
       "      <td>0.0</td>\n",
       "      <td>0.0</td>\n",
       "      <td>0.0</td>\n",
       "      <td>0.0</td>\n",
       "      <td>0.0</td>\n",
       "      <td>...</td>\n",
       "      <td>0.0</td>\n",
       "      <td>0.0</td>\n",
       "      <td>0.0</td>\n",
       "      <td>0.0</td>\n",
       "      <td>0.0</td>\n",
       "      <td>0.0</td>\n",
       "      <td>0.0</td>\n",
       "      <td>0.0</td>\n",
       "      <td>0.0</td>\n",
       "      <td>0.0</td>\n",
       "    </tr>\n",
       "    <tr>\n",
       "      <th>31385</th>\n",
       "      <td>0.0</td>\n",
       "      <td>0.0</td>\n",
       "      <td>0.0</td>\n",
       "      <td>0.0</td>\n",
       "      <td>0.0</td>\n",
       "      <td>0.0</td>\n",
       "      <td>0.0</td>\n",
       "      <td>0.0</td>\n",
       "      <td>0.0</td>\n",
       "      <td>0.0</td>\n",
       "      <td>...</td>\n",
       "      <td>0.0</td>\n",
       "      <td>0.0</td>\n",
       "      <td>0.0</td>\n",
       "      <td>0.0</td>\n",
       "      <td>0.0</td>\n",
       "      <td>0.0</td>\n",
       "      <td>0.0</td>\n",
       "      <td>0.0</td>\n",
       "      <td>0.0</td>\n",
       "      <td>0.0</td>\n",
       "    </tr>\n",
       "    <tr>\n",
       "      <th>38084</th>\n",
       "      <td>0.0</td>\n",
       "      <td>0.0</td>\n",
       "      <td>0.0</td>\n",
       "      <td>0.0</td>\n",
       "      <td>0.0</td>\n",
       "      <td>0.0</td>\n",
       "      <td>0.0</td>\n",
       "      <td>0.0</td>\n",
       "      <td>0.0</td>\n",
       "      <td>0.0</td>\n",
       "      <td>...</td>\n",
       "      <td>0.0</td>\n",
       "      <td>0.0</td>\n",
       "      <td>0.0</td>\n",
       "      <td>0.0</td>\n",
       "      <td>0.0</td>\n",
       "      <td>0.0</td>\n",
       "      <td>0.0</td>\n",
       "      <td>0.0</td>\n",
       "      <td>0.0</td>\n",
       "      <td>0.0</td>\n",
       "    </tr>\n",
       "  </tbody>\n",
       "</table>\n",
       "<p>5 rows × 185 columns</p>\n",
       "</div>"
      ],
      "text/plain": [
       "         Авиалинии, авиакомпании  \\\n",
       "user_id                            \n",
       "22899                        0.0   \n",
       "27914                        0.0   \n",
       "28753                        0.0   \n",
       "31385                        0.0   \n",
       "38084                        0.0   \n",
       "\n",
       "         Авиалинии, авиакомпании, нигде более не классифицированные  \\\n",
       "user_id                                                               \n",
       "22899                                                  0.0            \n",
       "27914                                                  0.0            \n",
       "28753                                                  0.0            \n",
       "31385                                                  0.0            \n",
       "38084                                                  0.0            \n",
       "\n",
       "         Автобусные линии  Автозапчасти и аксессуары  \\\n",
       "user_id                                                \n",
       "22899                 0.0                        0.0   \n",
       "27914                 0.0                        0.0   \n",
       "28753                 0.0                        0.0   \n",
       "31385                 0.0                        0.0   \n",
       "38084                 0.0                        0.0   \n",
       "\n",
       "         Автоматизированные бензозаправки  Автомойки  Автошины  \\\n",
       "user_id                                                          \n",
       "22899                                 0.0        0.0       0.0   \n",
       "27914                                 0.0        0.0       0.0   \n",
       "28753                                 0.0        0.0       0.0   \n",
       "31385                                 0.0        0.0       0.0   \n",
       "38084                                 0.0        0.0       0.0   \n",
       "\n",
       "         Агентства по автотранспортным перевозкам, местные/дальные автогрузоперевозки, компании попереезду и хранению, местная доставка  \\\n",
       "user_id                                                                                                                                   \n",
       "22899                                                  0.0                                                                                \n",
       "27914                                                  0.0                                                                                \n",
       "28753                                                  0.0                                                                                \n",
       "31385                                                  0.0                                                                                \n",
       "38084                                                  0.0                                                                                \n",
       "\n",
       "         Агентства по аренде автомобилей  \\\n",
       "user_id                                    \n",
       "22899                                0.0   \n",
       "27914                                0.0   \n",
       "28753                                0.0   \n",
       "31385                                0.0   \n",
       "38084                                0.0   \n",
       "\n",
       "         Агенты и менеджеры по аренде недвижимости  ...  \\\n",
       "user_id                                             ...   \n",
       "22899                                          0.0  ...   \n",
       "27914                                          0.0  ...   \n",
       "28753                                          0.0  ...   \n",
       "31385                                          0.0  ...   \n",
       "38084                                          0.0  ...   \n",
       "\n",
       "         Химикалии и смежные вещества, не классифицированные ранее  Химчистки  \\\n",
       "user_id                                                                         \n",
       "22899                                                  0.0                0.0   \n",
       "27914                                                  0.0                0.0   \n",
       "28753                                                  0.0                0.0   \n",
       "31385                                                  0.0                0.0   \n",
       "38084                                                  0.0                0.0   \n",
       "\n",
       "         Ценные бумаги: брокеры/дилеры  Центры здоровья  \\\n",
       "user_id                                                   \n",
       "22899                              0.0              0.0   \n",
       "27914                              0.0              0.0   \n",
       "28753                              0.0              0.0   \n",
       "31385                              0.0              0.0   \n",
       "38084                              0.0              0.0   \n",
       "\n",
       "         Цифровые товары, игры  Школы — бизнес и секретарей  Штрафы  \\\n",
       "user_id                                                               \n",
       "22899                      0.0                          0.0     0.0   \n",
       "27914                      0.0                          0.0     0.0   \n",
       "28753                      0.0                          0.0     0.0   \n",
       "31385                      0.0                          0.0     0.0   \n",
       "38084                      0.0                          0.0     0.0   \n",
       "\n",
       "         Штучные товары, галантерея и другие текстильные товары  \\\n",
       "user_id                                                           \n",
       "22899                                                  0.0        \n",
       "27914                                                  0.0        \n",
       "28753                                                  0.0        \n",
       "31385                                                  0.0        \n",
       "38084                                                  0.0        \n",
       "\n",
       "         Электрические части и оборудование  gender  \n",
       "user_id                                              \n",
       "22899                                   0.0     1.0  \n",
       "27914                                   0.0     1.0  \n",
       "28753                                   0.0     0.0  \n",
       "31385                                   0.0     0.0  \n",
       "38084                                   0.0     0.0  \n",
       "\n",
       "[5 rows x 185 columns]"
      ]
     },
     "execution_count": 23,
     "metadata": {},
     "output_type": "execute_result"
    }
   ],
   "source": [
    "fin.head()"
   ]
  },
  {
   "cell_type": "code",
   "execution_count": 24,
   "id": "4965c231",
   "metadata": {},
   "outputs": [],
   "source": [
    "y_new = fin['gender']\n",
    "fin = fin.drop('gender',axis=1)\n",
    "X_new = fin"
   ]
  },
  {
   "cell_type": "code",
   "execution_count": 25,
   "id": "b9831423",
   "metadata": {},
   "outputs": [],
   "source": [
    "np.random.seed(19)\n",
    "X_train_new, X_test_new, y_train_new, y_test_new = train_test_split(X_new, y_new, test_size = 0.2)"
   ]
  },
  {
   "cell_type": "code",
   "execution_count": 26,
   "id": "8aa668ce",
   "metadata": {},
   "outputs": [
    {
     "name": "stdout",
     "output_type": "stream",
     "text": [
      "for test: [[3.37773410e-01 6.62226590e-01]\n",
      " [5.61679525e-01 4.38320475e-01]\n",
      " [5.05281698e-01 4.94718302e-01]\n",
      " ...\n",
      " [8.19013788e-05 9.99918099e-01]\n",
      " [4.38503745e-01 5.61496255e-01]\n",
      " [5.19479151e-01 4.80520849e-01]]\n"
     ]
    }
   ],
   "source": [
    "lrr = LogisticRegression().fit(X_train_new,y_train_new)\n",
    "print(f'for test: {lrr.predict_proba(X_test_new)}')"
   ]
  },
  {
   "cell_type": "code",
   "execution_count": 27,
   "id": "5ca6b7f1",
   "metadata": {},
   "outputs": [
    {
     "data": {
      "text/plain": [
       "0.8016803222771958"
      ]
     },
     "execution_count": 27,
     "metadata": {},
     "output_type": "execute_result"
    }
   ],
   "source": [
    "#ROC_AUC\n",
    "p_pr = lrr.predict_proba(X_test_new)\n",
    "roc_auc_score(y_test_new, p_pr[:,-1])"
   ]
  },
  {
   "cell_type": "code",
   "execution_count": 28,
   "id": "2936effa",
   "metadata": {},
   "outputs": [
    {
     "data": {
      "text/plain": [
       "0.7314593301435407"
      ]
     },
     "execution_count": 28,
     "metadata": {},
     "output_type": "execute_result"
    }
   ],
   "source": [
    "#accuracy\n",
    "y_pr = lrr.predict(X_test_new)\n",
    "accuracy_score(y_test_new,y_pr)"
   ]
  },
  {
   "cell_type": "code",
   "execution_count": 29,
   "id": "1129ad6e",
   "metadata": {},
   "outputs": [
    {
     "data": {
      "text/plain": [
       "0.7366197183098592"
      ]
     },
     "execution_count": 29,
     "metadata": {},
     "output_type": "execute_result"
    }
   ],
   "source": [
    "#precision\n",
    "precision_score(y_test_new,y_pr)"
   ]
  },
  {
   "cell_type": "code",
   "execution_count": 30,
   "id": "b610926e",
   "metadata": {},
   "outputs": [
    {
     "data": {
      "text/plain": [
       "0.6662420382165605"
      ]
     },
     "execution_count": 30,
     "metadata": {},
     "output_type": "execute_result"
    }
   ],
   "source": [
    "#recall\n",
    "recall_score(y_test_new,y_pr)"
   ]
  },
  {
   "cell_type": "markdown",
   "id": "8f67c1fb",
   "metadata": {},
   "source": [
    "### Вывод "
   ]
  },
  {
   "cell_type": "markdown",
   "id": "3988e390",
   "metadata": {},
   "source": [
    "Изменилось ли качество модели? Почему?\n",
    "\n",
    "__Ваш вывод:__ Да, качество модели улучшилось, так как теперь у нас появилось больше признаков, по которым мы можем предсказывать значение целевой переменной."
   ]
  },
  {
   "cell_type": "markdown",
   "id": "39eb4d89",
   "metadata": {},
   "source": [
    "# Часть 3: что мы всё про данные? Давайте про модель \n",
    "# [макс 30 баллов]"
   ]
  },
  {
   "cell_type": "markdown",
   "id": "132aaef6",
   "metadata": {},
   "source": [
    "Ранее мы работали только над подготовкой обучающей выборки. Давайте теперь попробуем изменить модель, чтобы добиться наилучшего качества. \n",
    "\n",
    "Входные данные для этой части - выборка с предыдущей."
   ]
  },
  {
   "cell_type": "markdown",
   "id": "381b15b7",
   "metadata": {},
   "source": [
    "## Нормирование данных [5 баллов] "
   ]
  },
  {
   "cell_type": "markdown",
   "id": "0a268750",
   "metadata": {},
   "source": [
    "Как мы знаем, линейные модели любят нормированные данные.\n",
    "\n",
    "Приведите значения всех признаков в отрезок [0, 1]\n",
    "\n",
    "__Замечание__: если вы используете метод, который удаляет информацию о названиях колонок - сохраните эти названия в отдельную переменную, вам это потом может понадобиться."
   ]
  },
  {
   "cell_type": "code",
   "execution_count": 31,
   "id": "7c34f5de",
   "metadata": {},
   "outputs": [],
   "source": [
    "from sklearn.preprocessing import StandardScaler\n",
    "scaler = StandardScaler()\n",
    "X_train = scaler.fit_transform(X_train_new)\n",
    "X_test = scaler.fit_transform(X_test_new)"
   ]
  },
  {
   "cell_type": "code",
   "execution_count": 32,
   "id": "904172c3",
   "metadata": {},
   "outputs": [],
   "source": [
    "col_name = fin.columns"
   ]
  },
  {
   "cell_type": "markdown",
   "id": "7adad023",
   "metadata": {},
   "source": [
    "## Подбор параметров [15 баллов]"
   ]
  },
  {
   "cell_type": "markdown",
   "id": "e3a63257",
   "metadata": {},
   "source": [
    "Подберите наилучшие параметры для модели логистической регрессии. Важные уточнения:\n",
    "\n",
    "* используйте перебор по сетке\n",
    "* в качестве метрики используйте ROC AUC\n",
    "* для оценки параметров делайте кросс-валидацию на 4 фолдах\n",
    "\n",
    "__Замечание__: у линейной регрессии множество доступных значений для некоторых параметров зависит от метода оптимизации (solver). Например, lbfgs-алгоритм не подерживает l1-регуляризацию.\n",
    "\n",
    "Поэтому действуйте шагами: сначала подберите solver, а потом уже переберите доступные для него параметры."
   ]
  },
  {
   "cell_type": "code",
   "execution_count": 33,
   "id": "8198a4c5",
   "metadata": {
    "scrolled": false
   },
   "outputs": [],
   "source": [
    "from sklearn.model_selection import GridSearchCV"
   ]
  },
  {
   "cell_type": "code",
   "execution_count": 34,
   "id": "a5011af7",
   "metadata": {},
   "outputs": [
    {
     "data": {
      "text/html": [
       "<style>#sk-container-id-1 {color: black;background-color: white;}#sk-container-id-1 pre{padding: 0;}#sk-container-id-1 div.sk-toggleable {background-color: white;}#sk-container-id-1 label.sk-toggleable__label {cursor: pointer;display: block;width: 100%;margin-bottom: 0;padding: 0.3em;box-sizing: border-box;text-align: center;}#sk-container-id-1 label.sk-toggleable__label-arrow:before {content: \"▸\";float: left;margin-right: 0.25em;color: #696969;}#sk-container-id-1 label.sk-toggleable__label-arrow:hover:before {color: black;}#sk-container-id-1 div.sk-estimator:hover label.sk-toggleable__label-arrow:before {color: black;}#sk-container-id-1 div.sk-toggleable__content {max-height: 0;max-width: 0;overflow: hidden;text-align: left;background-color: #f0f8ff;}#sk-container-id-1 div.sk-toggleable__content pre {margin: 0.2em;color: black;border-radius: 0.25em;background-color: #f0f8ff;}#sk-container-id-1 input.sk-toggleable__control:checked~div.sk-toggleable__content {max-height: 200px;max-width: 100%;overflow: auto;}#sk-container-id-1 input.sk-toggleable__control:checked~label.sk-toggleable__label-arrow:before {content: \"▾\";}#sk-container-id-1 div.sk-estimator input.sk-toggleable__control:checked~label.sk-toggleable__label {background-color: #d4ebff;}#sk-container-id-1 div.sk-label input.sk-toggleable__control:checked~label.sk-toggleable__label {background-color: #d4ebff;}#sk-container-id-1 input.sk-hidden--visually {border: 0;clip: rect(1px 1px 1px 1px);clip: rect(1px, 1px, 1px, 1px);height: 1px;margin: -1px;overflow: hidden;padding: 0;position: absolute;width: 1px;}#sk-container-id-1 div.sk-estimator {font-family: monospace;background-color: #f0f8ff;border: 1px dotted black;border-radius: 0.25em;box-sizing: border-box;margin-bottom: 0.5em;}#sk-container-id-1 div.sk-estimator:hover {background-color: #d4ebff;}#sk-container-id-1 div.sk-parallel-item::after {content: \"\";width: 100%;border-bottom: 1px solid gray;flex-grow: 1;}#sk-container-id-1 div.sk-label:hover label.sk-toggleable__label {background-color: #d4ebff;}#sk-container-id-1 div.sk-serial::before {content: \"\";position: absolute;border-left: 1px solid gray;box-sizing: border-box;top: 0;bottom: 0;left: 50%;z-index: 0;}#sk-container-id-1 div.sk-serial {display: flex;flex-direction: column;align-items: center;background-color: white;padding-right: 0.2em;padding-left: 0.2em;position: relative;}#sk-container-id-1 div.sk-item {position: relative;z-index: 1;}#sk-container-id-1 div.sk-parallel {display: flex;align-items: stretch;justify-content: center;background-color: white;position: relative;}#sk-container-id-1 div.sk-item::before, #sk-container-id-1 div.sk-parallel-item::before {content: \"\";position: absolute;border-left: 1px solid gray;box-sizing: border-box;top: 0;bottom: 0;left: 50%;z-index: -1;}#sk-container-id-1 div.sk-parallel-item {display: flex;flex-direction: column;z-index: 1;position: relative;background-color: white;}#sk-container-id-1 div.sk-parallel-item:first-child::after {align-self: flex-end;width: 50%;}#sk-container-id-1 div.sk-parallel-item:last-child::after {align-self: flex-start;width: 50%;}#sk-container-id-1 div.sk-parallel-item:only-child::after {width: 0;}#sk-container-id-1 div.sk-dashed-wrapped {border: 1px dashed gray;margin: 0 0.4em 0.5em 0.4em;box-sizing: border-box;padding-bottom: 0.4em;background-color: white;}#sk-container-id-1 div.sk-label label {font-family: monospace;font-weight: bold;display: inline-block;line-height: 1.2em;}#sk-container-id-1 div.sk-label-container {text-align: center;}#sk-container-id-1 div.sk-container {/* jupyter's `normalize.less` sets `[hidden] { display: none; }` but bootstrap.min.css set `[hidden] { display: none !important; }` so we also need the `!important` here to be able to override the default hidden behavior on the sphinx rendered scikit-learn.org. See: https://github.com/scikit-learn/scikit-learn/issues/21755 */display: inline-block !important;position: relative;}#sk-container-id-1 div.sk-text-repr-fallback {display: none;}</style><div id=\"sk-container-id-1\" class=\"sk-top-container\"><div class=\"sk-text-repr-fallback\"><pre>LogisticRegression(solver=&#x27;saga&#x27;)</pre><b>In a Jupyter environment, please rerun this cell to show the HTML representation or trust the notebook. <br />On GitHub, the HTML representation is unable to render, please try loading this page with nbviewer.org.</b></div><div class=\"sk-container\" hidden><div class=\"sk-item\"><div class=\"sk-estimator sk-toggleable\"><input class=\"sk-toggleable__control sk-hidden--visually\" id=\"sk-estimator-id-1\" type=\"checkbox\" checked><label for=\"sk-estimator-id-1\" class=\"sk-toggleable__label sk-toggleable__label-arrow\">LogisticRegression</label><div class=\"sk-toggleable__content\"><pre>LogisticRegression(solver=&#x27;saga&#x27;)</pre></div></div></div></div></div>"
      ],
      "text/plain": [
       "LogisticRegression(solver='saga')"
      ]
     },
     "execution_count": 34,
     "metadata": {},
     "output_type": "execute_result"
    }
   ],
   "source": [
    "#подберём solver\n",
    "np.random.seed(19)\n",
    "logres = LogisticRegression()\n",
    "param_grid = {'solver':['lbfgs','liblinear','newton-cg','newton-cholesky','sag','saga']}\n",
    "best = GridSearchCV(logres,param_grid,cv=4)\n",
    "best.fit(X_train,y_train_new)\n",
    "best.best_estimator_"
   ]
  },
  {
   "cell_type": "code",
   "execution_count": 35,
   "id": "c71a5c07",
   "metadata": {},
   "outputs": [],
   "source": [
    "lr_n = LogisticRegression(solver='saga')\n",
    "param_grid = {'penalty':['elasticnet', 'l1', 'l2', None],'tol':[0.03,0.001,0.7,0.0058,0.9,0.0345],'C':np.arange(40)}"
   ]
  },
  {
   "cell_type": "code",
   "execution_count": 36,
   "id": "6b4a145e",
   "metadata": {},
   "outputs": [
    {
     "data": {
      "text/html": [
       "<style>#sk-container-id-2 {color: black;background-color: white;}#sk-container-id-2 pre{padding: 0;}#sk-container-id-2 div.sk-toggleable {background-color: white;}#sk-container-id-2 label.sk-toggleable__label {cursor: pointer;display: block;width: 100%;margin-bottom: 0;padding: 0.3em;box-sizing: border-box;text-align: center;}#sk-container-id-2 label.sk-toggleable__label-arrow:before {content: \"▸\";float: left;margin-right: 0.25em;color: #696969;}#sk-container-id-2 label.sk-toggleable__label-arrow:hover:before {color: black;}#sk-container-id-2 div.sk-estimator:hover label.sk-toggleable__label-arrow:before {color: black;}#sk-container-id-2 div.sk-toggleable__content {max-height: 0;max-width: 0;overflow: hidden;text-align: left;background-color: #f0f8ff;}#sk-container-id-2 div.sk-toggleable__content pre {margin: 0.2em;color: black;border-radius: 0.25em;background-color: #f0f8ff;}#sk-container-id-2 input.sk-toggleable__control:checked~div.sk-toggleable__content {max-height: 200px;max-width: 100%;overflow: auto;}#sk-container-id-2 input.sk-toggleable__control:checked~label.sk-toggleable__label-arrow:before {content: \"▾\";}#sk-container-id-2 div.sk-estimator input.sk-toggleable__control:checked~label.sk-toggleable__label {background-color: #d4ebff;}#sk-container-id-2 div.sk-label input.sk-toggleable__control:checked~label.sk-toggleable__label {background-color: #d4ebff;}#sk-container-id-2 input.sk-hidden--visually {border: 0;clip: rect(1px 1px 1px 1px);clip: rect(1px, 1px, 1px, 1px);height: 1px;margin: -1px;overflow: hidden;padding: 0;position: absolute;width: 1px;}#sk-container-id-2 div.sk-estimator {font-family: monospace;background-color: #f0f8ff;border: 1px dotted black;border-radius: 0.25em;box-sizing: border-box;margin-bottom: 0.5em;}#sk-container-id-2 div.sk-estimator:hover {background-color: #d4ebff;}#sk-container-id-2 div.sk-parallel-item::after {content: \"\";width: 100%;border-bottom: 1px solid gray;flex-grow: 1;}#sk-container-id-2 div.sk-label:hover label.sk-toggleable__label {background-color: #d4ebff;}#sk-container-id-2 div.sk-serial::before {content: \"\";position: absolute;border-left: 1px solid gray;box-sizing: border-box;top: 0;bottom: 0;left: 50%;z-index: 0;}#sk-container-id-2 div.sk-serial {display: flex;flex-direction: column;align-items: center;background-color: white;padding-right: 0.2em;padding-left: 0.2em;position: relative;}#sk-container-id-2 div.sk-item {position: relative;z-index: 1;}#sk-container-id-2 div.sk-parallel {display: flex;align-items: stretch;justify-content: center;background-color: white;position: relative;}#sk-container-id-2 div.sk-item::before, #sk-container-id-2 div.sk-parallel-item::before {content: \"\";position: absolute;border-left: 1px solid gray;box-sizing: border-box;top: 0;bottom: 0;left: 50%;z-index: -1;}#sk-container-id-2 div.sk-parallel-item {display: flex;flex-direction: column;z-index: 1;position: relative;background-color: white;}#sk-container-id-2 div.sk-parallel-item:first-child::after {align-self: flex-end;width: 50%;}#sk-container-id-2 div.sk-parallel-item:last-child::after {align-self: flex-start;width: 50%;}#sk-container-id-2 div.sk-parallel-item:only-child::after {width: 0;}#sk-container-id-2 div.sk-dashed-wrapped {border: 1px dashed gray;margin: 0 0.4em 0.5em 0.4em;box-sizing: border-box;padding-bottom: 0.4em;background-color: white;}#sk-container-id-2 div.sk-label label {font-family: monospace;font-weight: bold;display: inline-block;line-height: 1.2em;}#sk-container-id-2 div.sk-label-container {text-align: center;}#sk-container-id-2 div.sk-container {/* jupyter's `normalize.less` sets `[hidden] { display: none; }` but bootstrap.min.css set `[hidden] { display: none !important; }` so we also need the `!important` here to be able to override the default hidden behavior on the sphinx rendered scikit-learn.org. See: https://github.com/scikit-learn/scikit-learn/issues/21755 */display: inline-block !important;position: relative;}#sk-container-id-2 div.sk-text-repr-fallback {display: none;}</style><div id=\"sk-container-id-2\" class=\"sk-top-container\"><div class=\"sk-text-repr-fallback\"><pre>GridSearchCV(cv=4, estimator=LogisticRegression(solver=&#x27;saga&#x27;),\n",
       "             param_grid={&#x27;C&#x27;: array([ 0,  1,  2,  3,  4,  5,  6,  7,  8,  9, 10, 11, 12, 13, 14, 15, 16,\n",
       "       17, 18, 19, 20, 21, 22, 23, 24, 25, 26, 27, 28, 29, 30, 31, 32, 33,\n",
       "       34, 35, 36, 37, 38, 39]),\n",
       "                         &#x27;penalty&#x27;: [&#x27;elasticnet&#x27;, &#x27;l1&#x27;, &#x27;l2&#x27;, None],\n",
       "                         &#x27;tol&#x27;: [0.03, 0.001, 0.7, 0.0058, 0.9, 0.0345]},\n",
       "             scoring=&#x27;roc_auc&#x27;)</pre><b>In a Jupyter environment, please rerun this cell to show the HTML representation or trust the notebook. <br />On GitHub, the HTML representation is unable to render, please try loading this page with nbviewer.org.</b></div><div class=\"sk-container\" hidden><div class=\"sk-item sk-dashed-wrapped\"><div class=\"sk-label-container\"><div class=\"sk-label sk-toggleable\"><input class=\"sk-toggleable__control sk-hidden--visually\" id=\"sk-estimator-id-2\" type=\"checkbox\" ><label for=\"sk-estimator-id-2\" class=\"sk-toggleable__label sk-toggleable__label-arrow\">GridSearchCV</label><div class=\"sk-toggleable__content\"><pre>GridSearchCV(cv=4, estimator=LogisticRegression(solver=&#x27;saga&#x27;),\n",
       "             param_grid={&#x27;C&#x27;: array([ 0,  1,  2,  3,  4,  5,  6,  7,  8,  9, 10, 11, 12, 13, 14, 15, 16,\n",
       "       17, 18, 19, 20, 21, 22, 23, 24, 25, 26, 27, 28, 29, 30, 31, 32, 33,\n",
       "       34, 35, 36, 37, 38, 39]),\n",
       "                         &#x27;penalty&#x27;: [&#x27;elasticnet&#x27;, &#x27;l1&#x27;, &#x27;l2&#x27;, None],\n",
       "                         &#x27;tol&#x27;: [0.03, 0.001, 0.7, 0.0058, 0.9, 0.0345]},\n",
       "             scoring=&#x27;roc_auc&#x27;)</pre></div></div></div><div class=\"sk-parallel\"><div class=\"sk-parallel-item\"><div class=\"sk-item\"><div class=\"sk-label-container\"><div class=\"sk-label sk-toggleable\"><input class=\"sk-toggleable__control sk-hidden--visually\" id=\"sk-estimator-id-3\" type=\"checkbox\" ><label for=\"sk-estimator-id-3\" class=\"sk-toggleable__label sk-toggleable__label-arrow\">estimator: LogisticRegression</label><div class=\"sk-toggleable__content\"><pre>LogisticRegression(solver=&#x27;saga&#x27;)</pre></div></div></div><div class=\"sk-serial\"><div class=\"sk-item\"><div class=\"sk-estimator sk-toggleable\"><input class=\"sk-toggleable__control sk-hidden--visually\" id=\"sk-estimator-id-4\" type=\"checkbox\" ><label for=\"sk-estimator-id-4\" class=\"sk-toggleable__label sk-toggleable__label-arrow\">LogisticRegression</label><div class=\"sk-toggleable__content\"><pre>LogisticRegression(solver=&#x27;saga&#x27;)</pre></div></div></div></div></div></div></div></div></div></div>"
      ],
      "text/plain": [
       "GridSearchCV(cv=4, estimator=LogisticRegression(solver='saga'),\n",
       "             param_grid={'C': array([ 0,  1,  2,  3,  4,  5,  6,  7,  8,  9, 10, 11, 12, 13, 14, 15, 16,\n",
       "       17, 18, 19, 20, 21, 22, 23, 24, 25, 26, 27, 28, 29, 30, 31, 32, 33,\n",
       "       34, 35, 36, 37, 38, 39]),\n",
       "                         'penalty': ['elasticnet', 'l1', 'l2', None],\n",
       "                         'tol': [0.03, 0.001, 0.7, 0.0058, 0.9, 0.0345]},\n",
       "             scoring='roc_auc')"
      ]
     },
     "execution_count": 36,
     "metadata": {},
     "output_type": "execute_result"
    }
   ],
   "source": [
    "searcher_lr = GridSearchCV(lr_n,param_grid,scoring=\"roc_auc\", cv=4)\n",
    "searcher_lr.fit(X_train, y_train_new)"
   ]
  },
  {
   "cell_type": "code",
   "execution_count": 37,
   "id": "cfa88654",
   "metadata": {},
   "outputs": [
    {
     "data": {
      "text/html": [
       "<style>#sk-container-id-3 {color: black;background-color: white;}#sk-container-id-3 pre{padding: 0;}#sk-container-id-3 div.sk-toggleable {background-color: white;}#sk-container-id-3 label.sk-toggleable__label {cursor: pointer;display: block;width: 100%;margin-bottom: 0;padding: 0.3em;box-sizing: border-box;text-align: center;}#sk-container-id-3 label.sk-toggleable__label-arrow:before {content: \"▸\";float: left;margin-right: 0.25em;color: #696969;}#sk-container-id-3 label.sk-toggleable__label-arrow:hover:before {color: black;}#sk-container-id-3 div.sk-estimator:hover label.sk-toggleable__label-arrow:before {color: black;}#sk-container-id-3 div.sk-toggleable__content {max-height: 0;max-width: 0;overflow: hidden;text-align: left;background-color: #f0f8ff;}#sk-container-id-3 div.sk-toggleable__content pre {margin: 0.2em;color: black;border-radius: 0.25em;background-color: #f0f8ff;}#sk-container-id-3 input.sk-toggleable__control:checked~div.sk-toggleable__content {max-height: 200px;max-width: 100%;overflow: auto;}#sk-container-id-3 input.sk-toggleable__control:checked~label.sk-toggleable__label-arrow:before {content: \"▾\";}#sk-container-id-3 div.sk-estimator input.sk-toggleable__control:checked~label.sk-toggleable__label {background-color: #d4ebff;}#sk-container-id-3 div.sk-label input.sk-toggleable__control:checked~label.sk-toggleable__label {background-color: #d4ebff;}#sk-container-id-3 input.sk-hidden--visually {border: 0;clip: rect(1px 1px 1px 1px);clip: rect(1px, 1px, 1px, 1px);height: 1px;margin: -1px;overflow: hidden;padding: 0;position: absolute;width: 1px;}#sk-container-id-3 div.sk-estimator {font-family: monospace;background-color: #f0f8ff;border: 1px dotted black;border-radius: 0.25em;box-sizing: border-box;margin-bottom: 0.5em;}#sk-container-id-3 div.sk-estimator:hover {background-color: #d4ebff;}#sk-container-id-3 div.sk-parallel-item::after {content: \"\";width: 100%;border-bottom: 1px solid gray;flex-grow: 1;}#sk-container-id-3 div.sk-label:hover label.sk-toggleable__label {background-color: #d4ebff;}#sk-container-id-3 div.sk-serial::before {content: \"\";position: absolute;border-left: 1px solid gray;box-sizing: border-box;top: 0;bottom: 0;left: 50%;z-index: 0;}#sk-container-id-3 div.sk-serial {display: flex;flex-direction: column;align-items: center;background-color: white;padding-right: 0.2em;padding-left: 0.2em;position: relative;}#sk-container-id-3 div.sk-item {position: relative;z-index: 1;}#sk-container-id-3 div.sk-parallel {display: flex;align-items: stretch;justify-content: center;background-color: white;position: relative;}#sk-container-id-3 div.sk-item::before, #sk-container-id-3 div.sk-parallel-item::before {content: \"\";position: absolute;border-left: 1px solid gray;box-sizing: border-box;top: 0;bottom: 0;left: 50%;z-index: -1;}#sk-container-id-3 div.sk-parallel-item {display: flex;flex-direction: column;z-index: 1;position: relative;background-color: white;}#sk-container-id-3 div.sk-parallel-item:first-child::after {align-self: flex-end;width: 50%;}#sk-container-id-3 div.sk-parallel-item:last-child::after {align-self: flex-start;width: 50%;}#sk-container-id-3 div.sk-parallel-item:only-child::after {width: 0;}#sk-container-id-3 div.sk-dashed-wrapped {border: 1px dashed gray;margin: 0 0.4em 0.5em 0.4em;box-sizing: border-box;padding-bottom: 0.4em;background-color: white;}#sk-container-id-3 div.sk-label label {font-family: monospace;font-weight: bold;display: inline-block;line-height: 1.2em;}#sk-container-id-3 div.sk-label-container {text-align: center;}#sk-container-id-3 div.sk-container {/* jupyter's `normalize.less` sets `[hidden] { display: none; }` but bootstrap.min.css set `[hidden] { display: none !important; }` so we also need the `!important` here to be able to override the default hidden behavior on the sphinx rendered scikit-learn.org. See: https://github.com/scikit-learn/scikit-learn/issues/21755 */display: inline-block !important;position: relative;}#sk-container-id-3 div.sk-text-repr-fallback {display: none;}</style><div id=\"sk-container-id-3\" class=\"sk-top-container\"><div class=\"sk-text-repr-fallback\"><pre>LogisticRegression(C=32, penalty=&#x27;l1&#x27;, solver=&#x27;saga&#x27;, tol=0.7)</pre><b>In a Jupyter environment, please rerun this cell to show the HTML representation or trust the notebook. <br />On GitHub, the HTML representation is unable to render, please try loading this page with nbviewer.org.</b></div><div class=\"sk-container\" hidden><div class=\"sk-item\"><div class=\"sk-estimator sk-toggleable\"><input class=\"sk-toggleable__control sk-hidden--visually\" id=\"sk-estimator-id-5\" type=\"checkbox\" checked><label for=\"sk-estimator-id-5\" class=\"sk-toggleable__label sk-toggleable__label-arrow\">LogisticRegression</label><div class=\"sk-toggleable__content\"><pre>LogisticRegression(C=32, penalty=&#x27;l1&#x27;, solver=&#x27;saga&#x27;, tol=0.7)</pre></div></div></div></div></div>"
      ],
      "text/plain": [
       "LogisticRegression(C=32, penalty='l1', solver='saga', tol=0.7)"
      ]
     },
     "execution_count": 37,
     "metadata": {},
     "output_type": "execute_result"
    }
   ],
   "source": [
    "searcher_lr.best_estimator_"
   ]
  },
  {
   "cell_type": "markdown",
   "id": "d6c296ef",
   "metadata": {},
   "source": [
    "Оцените качество лучшей модели на тестовых данных аналогично предыдущим задачам."
   ]
  },
  {
   "cell_type": "code",
   "execution_count": 34,
   "id": "a264b6ee",
   "metadata": {},
   "outputs": [],
   "source": [
    "lr_nn = LogisticRegression(C=32,penalty='l1',solver='saga',tol=0.7)\n",
    "lr_nn.fit(X_train,y_train_new)\n",
    "pred_lr = lr_nn.predict(X_test)"
   ]
  },
  {
   "cell_type": "code",
   "execution_count": 35,
   "id": "5192b5c5",
   "metadata": {},
   "outputs": [
    {
     "data": {
      "text/plain": [
       "0.6973684210526315"
      ]
     },
     "execution_count": 35,
     "metadata": {},
     "output_type": "execute_result"
    }
   ],
   "source": [
    "#accuracy\n",
    "accuracy_score(y_test_new, pred_lr)"
   ]
  },
  {
   "cell_type": "code",
   "execution_count": 36,
   "id": "da20a013",
   "metadata": {},
   "outputs": [
    {
     "data": {
      "text/plain": [
       "0.8120805369127517"
      ]
     },
     "execution_count": 36,
     "metadata": {},
     "output_type": "execute_result"
    }
   ],
   "source": [
    "#precision_score\n",
    "precision_score(y_test_new, pred_lr)"
   ]
  },
  {
   "cell_type": "code",
   "execution_count": 37,
   "id": "40d49618",
   "metadata": {},
   "outputs": [
    {
     "data": {
      "text/plain": [
       "0.4624203821656051"
      ]
     },
     "execution_count": 37,
     "metadata": {},
     "output_type": "execute_result"
    }
   ],
   "source": [
    "#recall\n",
    "recall_score(y_test_new, pred_lr)"
   ]
  },
  {
   "cell_type": "code",
   "execution_count": 38,
   "id": "ab7bedec",
   "metadata": {},
   "outputs": [
    {
     "data": {
      "text/plain": [
       "0.6838595710151589"
      ]
     },
     "execution_count": 38,
     "metadata": {},
     "output_type": "execute_result"
    }
   ],
   "source": [
    "#ROC_AUC\n",
    "roc_auc_score(y_test_new, pred_lr)"
   ]
  },
  {
   "cell_type": "markdown",
   "id": "a5f49648",
   "metadata": {},
   "source": [
    "Получилось ли добиться лучше качества при подборе параметров?\n",
    "Почему так? \n",
    "\n",
    "Для чего мы использовали одновременно кросс-валидацию и отложенную тестовую выборку?\n",
    "\n",
    "__Ваш вывод__:Нельзя сказать о том, что получилось добиться улучшения качества, поскольку такие метрики как ROC AUC и accuracy упали. Произошло это из-за того, что мы сосредоточены только на одной метрике (roc auc).\n",
    "- Кросс-валидация позволяет проверить, как хорошо модель обобщается на новые данные, которые не были использованы в обучении модели.\n",
    "- Отложенная тестовая выборка используется для проверки качества модели на полностью независимом наборе данных, который не был использован при обучении и выборе гиперпараметров.\n",
    "- Получается, что использование кросс-валидации и отложенной тестовой выборки одновременно позволяет более точно оценить качество модели и обеспечить ее устойчивость и надежность при применении на новых данных."
   ]
  },
  {
   "cell_type": "markdown",
   "id": "4db51ec9",
   "metadata": {},
   "source": [
    "## Подбор отсечения [5 баллов]"
   ]
  },
  {
   "cell_type": "markdown",
   "id": "9b9d5678",
   "metadata": {},
   "source": [
    "Ранее мы работали или с вероятностями из модели или с метками, полученных при отсечении по веростности с порогом 0.5.\n",
    "\n",
    "Стоит сказать, что порог 0.5 для разделения классов не всегда самый лучший. Часто нам нужно так подобрать порог, чтобы удовлетворить наши требования по точности и полноте.\n",
    "\n",
    "Давайте подберём порог, который максимизирует F_beta меру при условии, что нам полнота в 5 раз важнее точности.\n",
    "\n",
    "Вычислите наилучший порог и нарисуйте график зависимости этой метрики от порога разделения."
   ]
  },
  {
   "cell_type": "code",
   "execution_count": 39,
   "id": "0edda085",
   "metadata": {},
   "outputs": [],
   "source": [
    "from sklearn.metrics import fbeta_score"
   ]
  },
  {
   "cell_type": "code",
   "execution_count": 40,
   "id": "7bde59d8",
   "metadata": {},
   "outputs": [],
   "source": [
    "lr_f = LogisticRegression(C=32,penalty='l1',solver='saga',tol=0.7)\n",
    "lr_f.fit(X_train,y_train_new)\n",
    "pred_f = lr_f.predict_proba(X_test)"
   ]
  },
  {
   "cell_type": "code",
   "execution_count": 42,
   "id": "1bd2e5e5",
   "metadata": {},
   "outputs": [
    {
     "name": "stdout",
     "output_type": "stream",
     "text": [
      "F-beta max:0.9584409485794788\n"
     ]
    }
   ],
   "source": [
    "tt = np.arange(0,1,0.01)\n",
    "fmax = []\n",
    "prediction = []\n",
    "for r in tt:\n",
    "    pr = np.where(pred_f[:,1]>r,1,0)\n",
    "    fmax.append(fbeta_score(y_test_new,pr,beta=5))\n",
    "fmax = sorted(fmax,reverse=True) \n",
    "print(f'F-beta max:{fmax[0]}')"
   ]
  },
  {
   "cell_type": "code",
   "execution_count": 43,
   "id": "6e560f3d",
   "metadata": {},
   "outputs": [
    {
     "data": {
      "text/plain": [
       "Text(0, 0.5, 'F-beta')"
      ]
     },
     "execution_count": 43,
     "metadata": {},
     "output_type": "execute_result"
    },
    {
     "data": {
      "image/png": "[encoded data removed]",
      "text/plain": [
       "<Figure size 640x480 with 1 Axes>"
      ]
     },
     "metadata": {},
     "output_type": "display_data"
    }
   ],
   "source": [
    "plt.plot(tt,fmax,color='green')\n",
    "plt.xlabel('p')\n",
    "plt.ylabel('F-beta')"
   ]
  },
  {
   "cell_type": "code",
   "execution_count": 44,
   "id": "4a12af9a",
   "metadata": {},
   "outputs": [
    {
     "name": "stdout",
     "output_type": "stream",
     "text": [
      "Порог для максимальной F-beta меры: 0.044\n"
     ]
    }
   ],
   "source": [
    "x,y=np.histogram(fmax)\n",
    "porog = x.max()/1000\n",
    "print(f'Порог для максимальной F-beta меры: {porog}')"
   ]
  },
  {
   "cell_type": "markdown",
   "id": "9692dde3",
   "metadata": {},
   "source": [
    "## Интерпретация модели [5 баллов]"
   ]
  },
  {
   "cell_type": "markdown",
   "id": "fda297e1",
   "metadata": {},
   "source": [
    "Часто нам хочется интерпритировать предсказания модели - понять, как наши признаки влияют на её ответ.\n",
    "В случае сложных моделей сделать это не просто - чем сложнее модель, тем более сложные закономерности она извлекает и тем тяжелее нам их понять.\n",
    "\n",
    "Но в случае линейной регресии это просто сделать, посмотрев на её обучаемые параметры (вспоминайте!).\n",
    "\n",
    "Получите список признаков, которые увеличивают вероятность метки 0.\n",
    "Аналогично для метки 1."
   ]
  },
  {
   "cell_type": "code",
   "execution_count": 48,
   "id": "2625f3ef",
   "metadata": {
    "scrolled": false
   },
   "outputs": [],
   "source": [
    "weights = lr_f.coef_"
   ]
  },
  {
   "cell_type": "code",
   "execution_count": 49,
   "id": "19738ac0",
   "metadata": {},
   "outputs": [
    {
     "name": "stdout",
     "output_type": "stream",
     "text": [
      "Автобусные линии\n",
      "Агентства по автотранспортным перевозкам, местные/дальные автогрузоперевозки, компании попереезду и хранению, местная доставка\n",
      "Агенты и менеджеры по аренде недвижимости\n"
     ]
    }
   ],
   "source": [
    "#Выведем признаки, увеличивающие вероятность метки \"0\"\n",
    "features_for_label_0 = []\n",
    "for w, weight in enumerate(weights[0]):\n",
    "    if weight < 0:\n",
    "        features_for_label_0.append(col_name[w])\n",
    "#Список довольно большой, поэтому выведем первые 3 признака\n",
    "print(*features_for_label_0[:3],sep='\\n')"
   ]
  },
  {
   "cell_type": "code",
   "execution_count": 50,
   "id": "3f0d0279",
   "metadata": {},
   "outputs": [
    {
     "name": "stdout",
     "output_type": "stream",
     "text": [
      "Авиалинии, авиакомпании\n",
      "Авиалинии, авиакомпании, нигде более не классифицированные\n",
      "Автозапчасти и аксессуары\n"
     ]
    }
   ],
   "source": [
    "#Выведем признаки,увеличивающие вероятность метки \"1\"\n",
    "features_for_label_1 = []\n",
    "for e, weight in enumerate(weights[0]):\n",
    "    if weight > 0:\n",
    "        features_for_label_1.append(col_name[e])\n",
    "#Список довольно большой, поэтому выведем первые 3 признака\n",
    "print(*features_for_label_1[:3],sep='\\n')"
   ]
  },
  {
   "cell_type": "code",
   "execution_count": 51,
   "id": "9443d4ed",
   "metadata": {},
   "outputs": [
    {
     "data": {
      "text/plain": [
       "0"
      ]
     },
     "execution_count": 51,
     "metadata": {},
     "output_type": "execute_result"
    }
   ],
   "source": [
    "#Проверим, что всё правильно и признаки не пересекаются\n",
    "aa = set(features_for_label_0)&set(features_for_label_1)\n",
    "len(aa)"
   ]
  },
  {
   "cell_type": "markdown",
   "id": "93723beb",
   "metadata": {},
   "source": [
    "# Часть 4: ва-банк / пространство для творчества [макс 30 баллов]"
   ]
  },
  {
   "cell_type": "markdown",
   "id": "97dc0173",
   "metadata": {},
   "source": [
    "Добейтесь максимального качества, больше качество - больше баллов.\n",
    "\n",
    "Стратегия подготовки данных и обучения модели на ваше усмотрение.\n",
    "\n",
    "Условия:\n",
    "* Оценка на отложенной тестовой группе пользователей, использовавшейся в прошлых пунктах (20%)\n",
    "* В качестве метрики используйте ROC_AUC\n",
    "\n",
    "__Замечание__: \n",
    "\n",
    "Ответа на вопрос \"какое нужно качество для максимального балла?\" не будет.\n",
    "\n",
    "Используйте все свои знания, чтобы добиться наилучшего результата."
   ]
  },
  {
   "cell_type": "markdown",
   "id": "7e93f9a0",
   "metadata": {},
   "source": [
    "### Я буду использовать линейный дискриминантный анализ, он более устойчив, чем логистическая регрессия. Данные беру отмасштабированные, из предыдущего пункта."
   ]
  },
  {
   "cell_type": "code",
   "execution_count": 52,
   "id": "e442c16f",
   "metadata": {},
   "outputs": [],
   "source": [
    "from sklearn.discriminant_analysis import LinearDiscriminantAnalysis as LDA\n",
    "from sklearn.model_selection import RepeatedStratifiedKFold\n",
    "from sklearn.model_selection import cross_val_score"
   ]
  },
  {
   "cell_type": "code",
   "execution_count": 53,
   "id": "a0bd238a",
   "metadata": {},
   "outputs": [
    {
     "data": {
      "text/html": [
       "<style>#sk-container-id-4 {color: black;background-color: white;}#sk-container-id-4 pre{padding: 0;}#sk-container-id-4 div.sk-toggleable {background-color: white;}#sk-container-id-4 label.sk-toggleable__label {cursor: pointer;display: block;width: 100%;margin-bottom: 0;padding: 0.3em;box-sizing: border-box;text-align: center;}#sk-container-id-4 label.sk-toggleable__label-arrow:before {content: \"▸\";float: left;margin-right: 0.25em;color: #696969;}#sk-container-id-4 label.sk-toggleable__label-arrow:hover:before {color: black;}#sk-container-id-4 div.sk-estimator:hover label.sk-toggleable__label-arrow:before {color: black;}#sk-container-id-4 div.sk-toggleable__content {max-height: 0;max-width: 0;overflow: hidden;text-align: left;background-color: #f0f8ff;}#sk-container-id-4 div.sk-toggleable__content pre {margin: 0.2em;color: black;border-radius: 0.25em;background-color: #f0f8ff;}#sk-container-id-4 input.sk-toggleable__control:checked~div.sk-toggleable__content {max-height: 200px;max-width: 100%;overflow: auto;}#sk-container-id-4 input.sk-toggleable__control:checked~label.sk-toggleable__label-arrow:before {content: \"▾\";}#sk-container-id-4 div.sk-estimator input.sk-toggleable__control:checked~label.sk-toggleable__label {background-color: #d4ebff;}#sk-container-id-4 div.sk-label input.sk-toggleable__control:checked~label.sk-toggleable__label {background-color: #d4ebff;}#sk-container-id-4 input.sk-hidden--visually {border: 0;clip: rect(1px 1px 1px 1px);clip: rect(1px, 1px, 1px, 1px);height: 1px;margin: -1px;overflow: hidden;padding: 0;position: absolute;width: 1px;}#sk-container-id-4 div.sk-estimator {font-family: monospace;background-color: #f0f8ff;border: 1px dotted black;border-radius: 0.25em;box-sizing: border-box;margin-bottom: 0.5em;}#sk-container-id-4 div.sk-estimator:hover {background-color: #d4ebff;}#sk-container-id-4 div.sk-parallel-item::after {content: \"\";width: 100%;border-bottom: 1px solid gray;flex-grow: 1;}#sk-container-id-4 div.sk-label:hover label.sk-toggleable__label {background-color: #d4ebff;}#sk-container-id-4 div.sk-serial::before {content: \"\";position: absolute;border-left: 1px solid gray;box-sizing: border-box;top: 0;bottom: 0;left: 50%;z-index: 0;}#sk-container-id-4 div.sk-serial {display: flex;flex-direction: column;align-items: center;background-color: white;padding-right: 0.2em;padding-left: 0.2em;position: relative;}#sk-container-id-4 div.sk-item {position: relative;z-index: 1;}#sk-container-id-4 div.sk-parallel {display: flex;align-items: stretch;justify-content: center;background-color: white;position: relative;}#sk-container-id-4 div.sk-item::before, #sk-container-id-4 div.sk-parallel-item::before {content: \"\";position: absolute;border-left: 1px solid gray;box-sizing: border-box;top: 0;bottom: 0;left: 50%;z-index: -1;}#sk-container-id-4 div.sk-parallel-item {display: flex;flex-direction: column;z-index: 1;position: relative;background-color: white;}#sk-container-id-4 div.sk-parallel-item:first-child::after {align-self: flex-end;width: 50%;}#sk-container-id-4 div.sk-parallel-item:last-child::after {align-self: flex-start;width: 50%;}#sk-container-id-4 div.sk-parallel-item:only-child::after {width: 0;}#sk-container-id-4 div.sk-dashed-wrapped {border: 1px dashed gray;margin: 0 0.4em 0.5em 0.4em;box-sizing: border-box;padding-bottom: 0.4em;background-color: white;}#sk-container-id-4 div.sk-label label {font-family: monospace;font-weight: bold;display: inline-block;line-height: 1.2em;}#sk-container-id-4 div.sk-label-container {text-align: center;}#sk-container-id-4 div.sk-container {/* jupyter's `normalize.less` sets `[hidden] { display: none; }` but bootstrap.min.css set `[hidden] { display: none !important; }` so we also need the `!important` here to be able to override the default hidden behavior on the sphinx rendered scikit-learn.org. See: https://github.com/scikit-learn/scikit-learn/issues/21755 */display: inline-block !important;position: relative;}#sk-container-id-4 div.sk-text-repr-fallback {display: none;}</style><div id=\"sk-container-id-4\" class=\"sk-top-container\"><div class=\"sk-text-repr-fallback\"><pre>LinearDiscriminantAnalysis()</pre><b>In a Jupyter environment, please rerun this cell to show the HTML representation or trust the notebook. <br />On GitHub, the HTML representation is unable to render, please try loading this page with nbviewer.org.</b></div><div class=\"sk-container\" hidden><div class=\"sk-item\"><div class=\"sk-estimator sk-toggleable\"><input class=\"sk-toggleable__control sk-hidden--visually\" id=\"sk-estimator-id-6\" type=\"checkbox\" checked><label for=\"sk-estimator-id-6\" class=\"sk-toggleable__label sk-toggleable__label-arrow\">LinearDiscriminantAnalysis</label><div class=\"sk-toggleable__content\"><pre>LinearDiscriminantAnalysis()</pre></div></div></div></div></div>"
      ],
      "text/plain": [
       "LinearDiscriminantAnalysis()"
      ]
     },
     "execution_count": 53,
     "metadata": {},
     "output_type": "execute_result"
    }
   ],
   "source": [
    "model = LDA()\n",
    "model.fit(X_train,y_train_new)"
   ]
  },
  {
   "cell_type": "code",
   "execution_count": 54,
   "id": "750d1651",
   "metadata": {},
   "outputs": [
    {
     "name": "stdout",
     "output_type": "stream",
     "text": [
      "0.7409362139917696\n"
     ]
    }
   ],
   "source": [
    "cv = RepeatedStratifiedKFold(n_splits=90, n_repeats=3, random_state=1)\n",
    "scores = cross_val_score(model, X_test, y_test_new, scoring='roc_auc', cv=cv, n_jobs=-1)\n",
    "print(np.mean(scores))   "
   ]
  },
  {
   "cell_type": "markdown",
   "id": "871c42fe",
   "metadata": {},
   "source": [
    "__Вывод__: Как мы видим, значение метрики ROC AUC удалось улучшить по сравнению со всеми остальными значениями, которые у нас получались в предыдущих пунктах."
   ]
  }
 ],
 "metadata": {
  "kernelspec": {
   "display_name": "Python 3 (ipykernel)",
   "language": "python",
   "name": "python3"
  },
  "language_info": {
   "codemirror_mode": {
    "name": "ipython",
    "version": 3
   },
   "file_extension": ".py",
   "mimetype": "text/x-python",
   "name": "python",
   "nbconvert_exporter": "python",
   "pygments_lexer": "ipython3",
   "version": "3.10.9"
  }
 },
 "nbformat": 4,
 "nbformat_minor": 5
}
